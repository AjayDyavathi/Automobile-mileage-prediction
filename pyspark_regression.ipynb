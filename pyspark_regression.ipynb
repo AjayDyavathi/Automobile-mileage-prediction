{
 "cells": [
  {
   "cell_type": "code",
   "execution_count": 1,
   "metadata": {},
   "outputs": [],
   "source": [
    "import pandas as pd\n",
    "\n",
    "df = pd.read_csv('Small_Car_Data.csv')"
   ]
  },
  {
   "cell_type": "code",
   "execution_count": 2,
   "metadata": {},
   "outputs": [
    {
     "data": {
      "text/html": [
       "<div>\n",
       "<style scoped>\n",
       "    .dataframe tbody tr th:only-of-type {\n",
       "        vertical-align: middle;\n",
       "    }\n",
       "\n",
       "    .dataframe tbody tr th {\n",
       "        vertical-align: top;\n",
       "    }\n",
       "\n",
       "    .dataframe thead th {\n",
       "        text-align: right;\n",
       "    }\n",
       "</style>\n",
       "<table border=\"1\" class=\"dataframe\">\n",
       "  <thead>\n",
       "    <tr style=\"text-align: right;\">\n",
       "      <th></th>\n",
       "      <th>Acceleration</th>\n",
       "      <th>Cylinders</th>\n",
       "      <th>Displacement</th>\n",
       "      <th>Horsepower</th>\n",
       "      <th>Manufacturer</th>\n",
       "      <th>Model</th>\n",
       "      <th>Model_Year</th>\n",
       "      <th>MPG</th>\n",
       "      <th>Origin</th>\n",
       "      <th>Weight</th>\n",
       "    </tr>\n",
       "  </thead>\n",
       "  <tbody>\n",
       "    <tr>\n",
       "      <th>0</th>\n",
       "      <td>12.0</td>\n",
       "      <td>8</td>\n",
       "      <td>307</td>\n",
       "      <td>130</td>\n",
       "      <td>chevrolet</td>\n",
       "      <td>chevrolet chevelle malibu</td>\n",
       "      <td>70</td>\n",
       "      <td>18.0</td>\n",
       "      <td>USA</td>\n",
       "      <td>3504</td>\n",
       "    </tr>\n",
       "    <tr>\n",
       "      <th>1</th>\n",
       "      <td>11.5</td>\n",
       "      <td>8</td>\n",
       "      <td>350</td>\n",
       "      <td>165</td>\n",
       "      <td>buick</td>\n",
       "      <td>buick skylark 320</td>\n",
       "      <td>70</td>\n",
       "      <td>15.0</td>\n",
       "      <td>USA</td>\n",
       "      <td>3693</td>\n",
       "    </tr>\n",
       "    <tr>\n",
       "      <th>2</th>\n",
       "      <td>11.0</td>\n",
       "      <td>8</td>\n",
       "      <td>318</td>\n",
       "      <td>150</td>\n",
       "      <td>plymouth</td>\n",
       "      <td>plymouth satellite</td>\n",
       "      <td>70</td>\n",
       "      <td>18.0</td>\n",
       "      <td>USA</td>\n",
       "      <td>3436</td>\n",
       "    </tr>\n",
       "    <tr>\n",
       "      <th>3</th>\n",
       "      <td>12.0</td>\n",
       "      <td>8</td>\n",
       "      <td>304</td>\n",
       "      <td>150</td>\n",
       "      <td>amc</td>\n",
       "      <td>amc rebel sst</td>\n",
       "      <td>70</td>\n",
       "      <td>16.0</td>\n",
       "      <td>USA</td>\n",
       "      <td>3433</td>\n",
       "    </tr>\n",
       "    <tr>\n",
       "      <th>4</th>\n",
       "      <td>10.5</td>\n",
       "      <td>8</td>\n",
       "      <td>302</td>\n",
       "      <td>140</td>\n",
       "      <td>ford</td>\n",
       "      <td>ford torino</td>\n",
       "      <td>70</td>\n",
       "      <td>17.0</td>\n",
       "      <td>USA</td>\n",
       "      <td>3449</td>\n",
       "    </tr>\n",
       "  </tbody>\n",
       "</table>\n",
       "</div>"
      ],
      "text/plain": [
       "   Acceleration  Cylinders  Displacement  Horsepower   Manufacturer  \\\n",
       "0          12.0          8           307         130  chevrolet       \n",
       "1          11.5          8           350         165  buick           \n",
       "2          11.0          8           318         150  plymouth        \n",
       "3          12.0          8           304         150  amc             \n",
       "4          10.5          8           302         140  ford            \n",
       "\n",
       "                               Model  Model_Year   MPG   Origin  Weight  \n",
       "0  chevrolet chevelle malibu                  70  18.0  USA        3504  \n",
       "1  buick skylark 320                          70  15.0  USA        3693  \n",
       "2  plymouth satellite                         70  18.0  USA        3436  \n",
       "3  amc rebel sst                              70  16.0  USA        3433  \n",
       "4  ford torino                                70  17.0  USA        3449  "
      ]
     },
     "execution_count": 2,
     "metadata": {},
     "output_type": "execute_result"
    }
   ],
   "source": [
    "df.head()\n",
    "df.drop('Unnamed: 0', axis=1, inplace=True)\n",
    "df.head()"
   ]
  },
  {
   "cell_type": "code",
   "execution_count": 3,
   "metadata": {},
   "outputs": [
    {
     "name": "stdout",
     "output_type": "stream",
     "text": [
      "<class 'pandas.core.frame.DataFrame'>\n",
      "RangeIndex: 100 entries, 0 to 99\n",
      "Data columns (total 10 columns):\n",
      " #   Column        Non-Null Count  Dtype  \n",
      "---  ------        --------------  -----  \n",
      " 0   Acceleration  100 non-null    float64\n",
      " 1   Cylinders     100 non-null    int64  \n",
      " 2   Displacement  100 non-null    int64  \n",
      " 3   Horsepower    100 non-null    int64  \n",
      " 4   Manufacturer  100 non-null    object \n",
      " 5   Model         100 non-null    object \n",
      " 6   Model_Year    100 non-null    int64  \n",
      " 7   MPG           100 non-null    float64\n",
      " 8   Origin        100 non-null    object \n",
      " 9   Weight        100 non-null    int64  \n",
      "dtypes: float64(2), int64(5), object(3)\n",
      "memory usage: 7.9+ KB\n"
     ]
    }
   ],
   "source": [
    "df.info()"
   ]
  },
  {
   "cell_type": "code",
   "execution_count": 4,
   "metadata": {},
   "outputs": [
    {
     "data": {
      "text/plain": [
       "array([[<AxesSubplot: title={'center': 'Acceleration'}>,\n",
       "        <AxesSubplot: title={'center': 'Cylinders'}>,\n",
       "        <AxesSubplot: title={'center': 'Displacement'}>],\n",
       "       [<AxesSubplot: title={'center': 'Horsepower'}>,\n",
       "        <AxesSubplot: title={'center': 'Model_Year'}>,\n",
       "        <AxesSubplot: title={'center': 'MPG'}>],\n",
       "       [<AxesSubplot: title={'center': 'Weight'}>, <AxesSubplot: >,\n",
       "        <AxesSubplot: >]], dtype=object)"
      ]
     },
     "execution_count": 4,
     "metadata": {},
     "output_type": "execute_result"
    },
    {
     "data": {
      "image/png": "[encoded data removed]",
      "text/plain": [
       "<Figure size 1000x1000 with 9 Axes>"
      ]
     },
     "metadata": {},
     "output_type": "display_data"
    }
   ],
   "source": [
    "df.hist(figsize=(10, 10))"
   ]
  },
  {
   "cell_type": "code",
   "execution_count": 5,
   "metadata": {},
   "outputs": [
    {
     "name": "stdout",
     "output_type": "stream",
     "text": [
      "22/12/26 21:53:17 WARN Utils: Your hostname, Ajays-MacBook-Pro.local resolves to a loopback address: 127.0.0.1; using 10.0.0.244 instead (on interface en0)\n",
      "22/12/26 21:53:17 WARN Utils: Set SPARK_LOCAL_IP if you need to bind to another address\n"
     ]
    },
    {
     "name": "stderr",
     "output_type": "stream",
     "text": [
      "Setting default log level to \"WARN\".\n",
      "To adjust logging level use sc.setLogLevel(newLevel). For SparkR, use setLogLevel(newLevel).\n"
     ]
    },
    {
     "name": "stdout",
     "output_type": "stream",
     "text": [
      "22/12/26 21:53:17 WARN NativeCodeLoader: Unable to load native-hadoop library for your platform... using builtin-java classes where applicable\n"
     ]
    }
   ],
   "source": [
    "from pyspark.sql import SparkSession\n",
    "\n",
    "spark = SparkSession.builder.getOrCreate()"
   ]
  },
  {
   "cell_type": "code",
   "execution_count": 6,
   "metadata": {},
   "outputs": [
    {
     "name": "stderr",
     "output_type": "stream",
     "text": [
      "/Users/ajaydyavathi/miniforge3/envs/tf/lib/python3.9/site-packages/pyspark/sql/pandas/conversion.py:474: FutureWarning: iteritems is deprecated and will be removed in a future version. Use .items instead.\n",
      "  for column, series in pdf.iteritems():\n",
      "/Users/ajaydyavathi/miniforge3/envs/tf/lib/python3.9/site-packages/pyspark/sql/pandas/conversion.py:486: FutureWarning: iteritems is deprecated and will be removed in a future version. Use .items instead.\n",
      "  for column, series in pdf.iteritems():\n",
      "[Stage 0:>                                                          (0 + 1) / 1]\r"
     ]
    },
    {
     "name": "stdout",
     "output_type": "stream",
     "text": [
      "+------------+---------+------------+----------+-------------+--------------------+----------+----+-------+------+\n",
      "|Acceleration|Cylinders|Displacement|Horsepower| Manufacturer|               Model|Model_Year| MPG| Origin|Weight|\n",
      "+------------+---------+------------+----------+-------------+--------------------+----------+----+-------+------+\n",
      "|        12.0|        8|         307|       130|chevrolet    |chevrolet chevell...|        70|18.0|USA    |  3504|\n",
      "|        11.5|        8|         350|       165|buick        |buick skylark 320...|        70|15.0|USA    |  3693|\n",
      "|        11.0|        8|         318|       150|plymouth     |plymouth satellit...|        70|18.0|USA    |  3436|\n",
      "|        12.0|        8|         304|       150|amc          |amc rebel sst    ...|        70|16.0|USA    |  3433|\n",
      "|        10.5|        8|         302|       140|ford         |ford torino      ...|        70|17.0|USA    |  3449|\n",
      "+------------+---------+------------+----------+-------------+--------------------+----------+----+-------+------+\n",
      "only showing top 5 rows\n",
      "\n"
     ]
    },
    {
     "name": "stderr",
     "output_type": "stream",
     "text": [
      "                                                                                \r"
     ]
    }
   ],
   "source": [
    "df = spark.createDataFrame(df)\n",
    "df.show(5)"
   ]
  },
  {
   "cell_type": "code",
   "execution_count": 7,
   "metadata": {},
   "outputs": [],
   "source": [
    "from pyspark.ml.linalg import Vectors\n",
    "from pyspark.ml.feature import VectorAssembler\n",
    "\n",
    "assembler = VectorAssembler(\n",
    "    inputCols=[\"Horsepower\"],\n",
    "    outputCol=\"features\"\n",
    ")\n",
    "\n",
    "df_vector = assembler.transform(df)"
   ]
  },
  {
   "cell_type": "code",
   "execution_count": 8,
   "metadata": {},
   "outputs": [
    {
     "name": "stdout",
     "output_type": "stream",
     "text": [
      "+------------+---------+------------+----------+-------------+--------------------+----------+----+-------+------+--------+\n",
      "|Acceleration|Cylinders|Displacement|Horsepower| Manufacturer|               Model|Model_Year| MPG| Origin|Weight|features|\n",
      "+------------+---------+------------+----------+-------------+--------------------+----------+----+-------+------+--------+\n",
      "|        12.0|        8|         307|       130|chevrolet    |chevrolet chevell...|        70|18.0|USA    |  3504| [130.0]|\n",
      "|        11.5|        8|         350|       165|buick        |buick skylark 320...|        70|15.0|USA    |  3693| [165.0]|\n",
      "|        11.0|        8|         318|       150|plymouth     |plymouth satellit...|        70|18.0|USA    |  3436| [150.0]|\n",
      "+------------+---------+------------+----------+-------------+--------------------+----------+----+-------+------+--------+\n",
      "only showing top 3 rows\n",
      "\n"
     ]
    }
   ],
   "source": [
    "df_vector.show(3)"
   ]
  },
  {
   "cell_type": "code",
   "execution_count": 9,
   "metadata": {},
   "outputs": [
    {
     "name": "stdout",
     "output_type": "stream",
     "text": [
      "+--------+------------+\n",
      "|features|Displacement|\n",
      "+--------+------------+\n",
      "| [130.0]|         307|\n",
      "| [165.0]|         350|\n",
      "+--------+------------+\n",
      "only showing top 2 rows\n",
      "\n"
     ]
    }
   ],
   "source": [
    "df_final = df_vector.select([\"features\", \"Displacement\"])\n",
    "df_final.show(2)"
   ]
  },
  {
   "cell_type": "code",
   "execution_count": 10,
   "metadata": {},
   "outputs": [],
   "source": [
    "df_train, df_test = df_final.randomSplit([0.9, 0.1])"
   ]
  },
  {
   "cell_type": "code",
   "execution_count": 11,
   "metadata": {},
   "outputs": [
    {
     "data": {
      "text/plain": [
       "(89, 11)"
      ]
     },
     "execution_count": 11,
     "metadata": {},
     "output_type": "execute_result"
    }
   ],
   "source": [
    "df_train.count(), df_test.count()"
   ]
  },
  {
   "cell_type": "code",
   "execution_count": 12,
   "metadata": {},
   "outputs": [
    {
     "name": "stdout",
     "output_type": "stream",
     "text": [
      "22/12/26 21:53:26 WARN InstanceBuilder$JavaBLAS: Failed to load implementation from:dev.ludovic.netlib.blas.VectorBLAS\n",
      "22/12/26 21:53:26 WARN InstanceBuilder$NativeBLAS: Failed to load implementation from:dev.ludovic.netlib.blas.JNIBLAS\n",
      "22/12/26 21:53:26 WARN InstanceBuilder$NativeBLAS: Failed to load implementation from:dev.ludovic.netlib.blas.ForeignLinkerBLAS\n",
      "22/12/26 21:53:26 WARN InstanceBuilder$NativeLAPACK: Failed to load implementation from:dev.ludovic.netlib.lapack.JNILAPACK\n"
     ]
    }
   ],
   "source": [
    "from pyspark.ml.regression import LinearRegression\n",
    "\n",
    "lr = LinearRegression(featuresCol=\"features\", labelCol=\"Displacement\", maxIter=10, regParam=0.3)\n",
    "lr_model = lr.fit(df_train)"
   ]
  },
  {
   "cell_type": "code",
   "execution_count": 13,
   "metadata": {},
   "outputs": [
    {
     "name": "stdout",
     "output_type": "stream",
     "text": [
      "Coefficients: [2.226057281367776]\n",
      "Intercept: -41.20196473329648\n"
     ]
    }
   ],
   "source": [
    "print(\"Coefficients: \" + str(lr_model.coefficients))\n",
    "print(\"Intercept: \" + str(lr_model.intercept))"
   ]
  },
  {
   "cell_type": "code",
   "execution_count": 14,
   "metadata": {},
   "outputs": [
    {
     "name": "stdout",
     "output_type": "stream",
     "text": [
      "RMSE: 46.7564\n",
      "r2: 0.8168\n"
     ]
    }
   ],
   "source": [
    "summary = lr_model.summary\n",
    "print(\"RMSE:\", round(summary.rootMeanSquaredError, 4))\n",
    "print(\"r2:\", round(summary.r2, 4))"
   ]
  },
  {
   "cell_type": "code",
   "execution_count": 15,
   "metadata": {},
   "outputs": [
    {
     "name": "stdout",
     "output_type": "stream",
     "text": [
      "+--------+------------+------------------+\n",
      "|features|Displacement|        prediction|\n",
      "+--------+------------+------------------+\n",
      "| [150.0]|         304|   292.70662747187|\n",
      "| [160.0]|         340|314.96720028554773|\n",
      "| [170.0]|         383| 337.2277730992255|\n",
      "+--------+------------+------------------+\n",
      "only showing top 3 rows\n",
      "\n"
     ]
    }
   ],
   "source": [
    "lr_preds = lr_model.transform(df_test)\n",
    "lr_preds.show(3)"
   ]
  },
  {
   "cell_type": "code",
   "execution_count": 16,
   "metadata": {},
   "outputs": [
    {
     "name": "stdout",
     "output_type": "stream",
     "text": [
      "RMSE (test data): 30.38683362100775\n",
      "R2 (test data): 0.9418595538669011\n"
     ]
    }
   ],
   "source": [
    "from pyspark.ml.evaluation import RegressionEvaluator\n",
    "\n",
    "# RMSE evaluation\n",
    "lr_eval = RegressionEvaluator(predictionCol=\"prediction\", labelCol=\"Displacement\")\n",
    "lr_eval_r2 = RegressionEvaluator(predictionCol=\"prediction\", labelCol=\"Displacement\", metricName=\"r2\")\n",
    "print(\"RMSE (test data):\", lr_eval.evaluate(lr_preds))\n",
    "print(\"R2 (test data):\", lr_eval_r2.evaluate(lr_preds))"
   ]
  },
  {
   "cell_type": "code",
   "execution_count": 17,
   "metadata": {},
   "outputs": [
    {
     "data": {
      "text/plain": [
       "Text(0, 0.5, 'Displacement')"
      ]
     },
     "execution_count": 17,
     "metadata": {},
     "output_type": "execute_result"
    },
    {
     "data": {
      "image/png": "[encoded data removed]",
      "text/plain": [
       "<Figure size 1000x500 with 1 Axes>"
      ]
     },
     "metadata": {},
     "output_type": "display_data"
    }
   ],
   "source": [
    "import matplotlib.pyplot as plt\n",
    "\n",
    "pred_df = lr_preds.toPandas()\n",
    "fts = [i[0] for i in pred_df['features']]\n",
    "plt.figure(figsize=(10, 5))\n",
    "plt.scatter(fts, pred_df['prediction'].values, label=\"Predicted data\")\n",
    "plt.scatter(fts, pred_df['Displacement'].values, label=\"Test data\")\n",
    "func = lambda x: lr_model.coefficients[0] * x + lr_model.intercept\n",
    "\n",
    "plt.plot([min(fts), max(fts)], list(map(func, [min(fts), max(fts)])), label=\"regression line\")\n",
    "plt.legend()\n",
    "plt.title(\"Test data vs Predicted data\")\n",
    "plt.xlabel(\"Horsepower\")\n",
    "plt.ylabel(\"Displacement\")"
   ]
  },
  {
   "attachments": {},
   "cell_type": "markdown",
   "metadata": {},
   "source": [
    "### Model 2"
   ]
  },
  {
   "cell_type": "code",
   "execution_count": 18,
   "metadata": {},
   "outputs": [
    {
     "data": {
      "text/plain": [
       "['Acceleration',\n",
       " 'Cylinders',\n",
       " 'Displacement',\n",
       " 'Horsepower',\n",
       " 'Manufacturer',\n",
       " 'Model',\n",
       " 'Model_Year',\n",
       " 'MPG',\n",
       " 'Origin',\n",
       " 'Weight']"
      ]
     },
     "execution_count": 18,
     "metadata": {},
     "output_type": "execute_result"
    }
   ],
   "source": [
    "df.columns"
   ]
  },
  {
   "cell_type": "code",
   "execution_count": 19,
   "metadata": {},
   "outputs": [],
   "source": [
    "from pyspark.ml.feature import StringIndexer\n",
    "\n",
    "indexer = StringIndexer(inputCols=[\"Manufacturer\", \"Origin\"], outputCols=[\"Manufacturer_idx\", \"Origin_idx\"])\n",
    "model = indexer.fit(df)"
   ]
  },
  {
   "cell_type": "code",
   "execution_count": 20,
   "metadata": {},
   "outputs": [],
   "source": [
    "t_df = model.transform(df)"
   ]
  },
  {
   "cell_type": "code",
   "execution_count": 21,
   "metadata": {},
   "outputs": [
    {
     "name": "stdout",
     "output_type": "stream",
     "text": [
      "+------------+---------+------------+----------+-------------+--------------------+----------+----+-------+------+----------------+----------+\n",
      "|Acceleration|Cylinders|Displacement|Horsepower| Manufacturer|               Model|Model_Year| MPG| Origin|Weight|Manufacturer_idx|Origin_idx|\n",
      "+------------+---------+------------+----------+-------------+--------------------+----------+----+-------+------+----------------+----------+\n",
      "|        12.0|        8|         307|       130|chevrolet    |chevrolet chevell...|        70|18.0|USA    |  3504|             1.0|       0.0|\n",
      "|        11.5|        8|         350|       165|buick        |buick skylark 320...|        70|15.0|USA    |  3693|             9.0|       0.0|\n",
      "+------------+---------+------------+----------+-------------+--------------------+----------+----+-------+------+----------------+----------+\n",
      "only showing top 2 rows\n",
      "\n"
     ]
    }
   ],
   "source": [
    "t_df.show(2)"
   ]
  },
  {
   "cell_type": "code",
   "execution_count": 22,
   "metadata": {},
   "outputs": [],
   "source": [
    "from pyspark.ml.feature import OneHotEncoder\n",
    "\n",
    "encoder = OneHotEncoder()\n",
    "encoder.setInputCols([\"Manufacturer_idx\", \"Origin_idx\"])\n",
    "encoder.setOutputCols([\"Manufacturer_cat\", \"Origin_cat\"])\n",
    "model = encoder.fit(t_df)"
   ]
  },
  {
   "cell_type": "code",
   "execution_count": 23,
   "metadata": {},
   "outputs": [],
   "source": [
    "cat_df = model.transform(t_df)"
   ]
  },
  {
   "cell_type": "code",
   "execution_count": 24,
   "metadata": {},
   "outputs": [
    {
     "name": "stdout",
     "output_type": "stream",
     "text": [
      "+------------+---------+------------+----------+-------------+--------------------+----------+----+-------+------+----------------+----------+----------------+-------------+\n",
      "|Acceleration|Cylinders|Displacement|Horsepower| Manufacturer|               Model|Model_Year| MPG| Origin|Weight|Manufacturer_idx|Origin_idx|Manufacturer_cat|   Origin_cat|\n",
      "+------------+---------+------------+----------+-------------+--------------------+----------+----+-------+------+----------------+----------+----------------+-------------+\n",
      "|        12.0|        8|         307|       130|chevrolet    |chevrolet chevell...|        70|18.0|USA    |  3504|             1.0|       0.0|  (27,[1],[1.0])|(5,[0],[1.0])|\n",
      "|        11.5|        8|         350|       165|buick        |buick skylark 320...|        70|15.0|USA    |  3693|             9.0|       0.0|  (27,[9],[1.0])|(5,[0],[1.0])|\n",
      "+------------+---------+------------+----------+-------------+--------------------+----------+----+-------+------+----------------+----------+----------------+-------------+\n",
      "only showing top 2 rows\n",
      "\n"
     ]
    }
   ],
   "source": [
    "cat_df.show(2)"
   ]
  },
  {
   "cell_type": "code",
   "execution_count": 25,
   "metadata": {},
   "outputs": [
    {
     "name": "stdout",
     "output_type": "stream",
     "text": [
      "+------------+---------+------------+----------+----------+------+----------------+-------------+\n",
      "|Acceleration|Cylinders|Displacement|Horsepower|Model_Year|Weight|Manufacturer_cat|   Origin_cat|\n",
      "+------------+---------+------------+----------+----------+------+----------------+-------------+\n",
      "|        12.0|        8|         307|       130|        70|  3504|  (27,[1],[1.0])|(5,[0],[1.0])|\n",
      "|        11.5|        8|         350|       165|        70|  3693|  (27,[9],[1.0])|(5,[0],[1.0])|\n",
      "+------------+---------+------------+----------+----------+------+----------------+-------------+\n",
      "only showing top 2 rows\n",
      "\n"
     ]
    }
   ],
   "source": [
    "df_new = cat_df.drop(\"Manufacturer\", \"Manufacturer_idx\", \"Origin\", \"Origin_idx\", \"Model\", \"MPG\")\n",
    "df_new.show(2)"
   ]
  },
  {
   "cell_type": "code",
   "execution_count": 26,
   "metadata": {},
   "outputs": [
    {
     "name": "stdout",
     "output_type": "stream",
     "text": [
      "+------------+---------+------------+----------+----------+------+----------------+-------------+--------------------+\n",
      "|Acceleration|Cylinders|Displacement|Horsepower|Model_Year|Weight|Manufacturer_cat|   Origin_cat|            features|\n",
      "+------------+---------+------------+----------+----------+------+----------------+-------------+--------------------+\n",
      "|        12.0|        8|         307|       130|        70|  3504|  (27,[1],[1.0])|(5,[0],[1.0])|(36,[0,1,3,29,30,...|\n",
      "|        11.5|        8|         350|       165|        70|  3693|  (27,[9],[1.0])|(5,[0],[1.0])|(36,[0,1,11,29,30...|\n",
      "+------------+---------+------------+----------+----------+------+----------------+-------------+--------------------+\n",
      "only showing top 2 rows\n",
      "\n"
     ]
    }
   ],
   "source": [
    "assembler = VectorAssembler(\n",
    "    inputCols=[\"Cylinders\", \"Displacement\", \"Manufacturer_cat\", \"Model_Year\", \"Origin_cat\", \"Weight\"],\n",
    "    outputCol=\"features\"\n",
    ")\n",
    "\n",
    "df_features = assembler.transform(df_new)\n",
    "df_features.show(2)"
   ]
  },
  {
   "cell_type": "code",
   "execution_count": 27,
   "metadata": {},
   "outputs": [
    {
     "name": "stdout",
     "output_type": "stream",
     "text": [
      "+--------------------+------------+\n",
      "|            features|Acceleration|\n",
      "+--------------------+------------+\n",
      "|(36,[0,1,3,29,30,...|        12.0|\n",
      "|(36,[0,1,11,29,30...|        11.5|\n",
      "+--------------------+------------+\n",
      "only showing top 2 rows\n",
      "\n"
     ]
    }
   ],
   "source": [
    "df_acc = df_features.select(['features', 'Acceleration'])\n",
    "df_acc.show(2)"
   ]
  },
  {
   "cell_type": "code",
   "execution_count": 28,
   "metadata": {},
   "outputs": [],
   "source": [
    "df_train, df_test = df_acc.randomSplit([0.9, 0.1])"
   ]
  },
  {
   "cell_type": "code",
   "execution_count": 29,
   "metadata": {},
   "outputs": [
    {
     "data": {
      "text/plain": [
       "(95, 5)"
      ]
     },
     "execution_count": 29,
     "metadata": {},
     "output_type": "execute_result"
    }
   ],
   "source": [
    "df_train.count(), df_test.count()"
   ]
  },
  {
   "cell_type": "code",
   "execution_count": 30,
   "metadata": {},
   "outputs": [],
   "source": [
    "from pyspark.ml.regression import LinearRegression\n",
    "\n",
    "lr = LinearRegression(featuresCol=\"features\", labelCol=\"Acceleration\", maxIter=10, regParam=0.3, elasticNetParam=0.8)\n",
    "lr_model = lr.fit(df_train)"
   ]
  },
  {
   "cell_type": "code",
   "execution_count": 31,
   "metadata": {},
   "outputs": [
    {
     "name": "stdout",
     "output_type": "stream",
     "text": [
      "Coefficients: [-0.1726052625745371,-0.013702200008057388,0.0,0.08433132928054932,0.09451885855389282,0.0,-0.6875136256472446,0.0,0.0,-0.1763147399555461,0.0,0.0,0.0,0.0,1.8411665239025485,0.0,-1.1097630654750505,0.0,0.0,0.0,0.0,3.3688344382672812,0.0,0.0,0.0,0.0,0.0,0.0,0.0,0.08344064354470153,0.0,-0.3753253416660544,0.0,0.0,0.0,0.0]\n",
      "Intercept: 12.512746324710873\n"
     ]
    }
   ],
   "source": [
    "print(\"Coefficients: \" + str(lr_model.coefficients))\n",
    "print(\"Intercept: \" + str(lr_model.intercept))"
   ]
  },
  {
   "cell_type": "code",
   "execution_count": 32,
   "metadata": {},
   "outputs": [
    {
     "name": "stdout",
     "output_type": "stream",
     "text": [
      "RMSE: 2.1224\n",
      "r2: 0.5807\n"
     ]
    }
   ],
   "source": [
    "summary = lr_model.summary\n",
    "print(\"RMSE:\", round(summary.rootMeanSquaredError, 4))\n",
    "print(\"r2:\", round(summary.r2, 4))"
   ]
  },
  {
   "cell_type": "code",
   "execution_count": 33,
   "metadata": {},
   "outputs": [
    {
     "name": "stdout",
     "output_type": "stream",
     "text": [
      "+--------------------+------------+------------------+\n",
      "|            features|Acceleration|        prediction|\n",
      "+--------------------+------------+------------------+\n",
      "|(36,[0,1,8,29,32,...|        20.5|16.334056921760265|\n",
      "|(36,[0,1,12,29,31...|        14.5|15.958731580094211|\n",
      "|(36,[0,1,6,29,30,...|        15.4| 14.04809503120081|\n",
      "+--------------------+------------+------------------+\n",
      "only showing top 3 rows\n",
      "\n"
     ]
    }
   ],
   "source": [
    "lr_preds = lr_model.transform(df_test)\n",
    "lr_preds.show(3)"
   ]
  },
  {
   "cell_type": "code",
   "execution_count": 34,
   "metadata": {},
   "outputs": [
    {
     "name": "stdout",
     "output_type": "stream",
     "text": [
      "RMSE (test data): 3.7356572451658763\n",
      "R2 (test data): 0.00451299339722766\n"
     ]
    }
   ],
   "source": [
    "# RMSE evaluation\n",
    "lr_eval = RegressionEvaluator(predictionCol=\"prediction\", labelCol=\"Acceleration\")\n",
    "lr_eval_r2 = RegressionEvaluator(predictionCol=\"prediction\", labelCol=\"Acceleration\", metricName=\"r2\")\n",
    "print(\"RMSE (test data):\", lr_eval.evaluate(lr_preds))\n",
    "print(\"R2 (test data):\", lr_eval_r2.evaluate(lr_preds))"
   ]
  },
  {
   "attachments": {},
   "cell_type": "markdown",
   "metadata": {},
   "source": [
    "## Final Version"
   ]
  },
  {
   "attachments": {},
   "cell_type": "markdown",
   "metadata": {},
   "source": [
    "## Linear Regression"
   ]
  },
  {
   "cell_type": "code",
   "execution_count": 35,
   "metadata": {},
   "outputs": [
    {
     "name": "stdout",
     "output_type": "stream",
     "text": [
      "+------------+---------+------------+----------+-------------+--------------------+----------+----+-------+------+----------------+----------+----------------+-------------+--------------------+\n",
      "|Acceleration|Cylinders|Displacement|Horsepower| Manufacturer|               Model|Model_Year| MPG| Origin|Weight|Manufacturer_idx|Origin_idx|Manufacturer_cat|   Origin_cat|            features|\n",
      "+------------+---------+------------+----------+-------------+--------------------+----------+----+-------+------+----------------+----------+----------------+-------------+--------------------+\n",
      "|        12.0|        8|         307|       130|chevrolet    |chevrolet chevell...|        70|18.0|USA    |  3504|             1.0|       0.0|  (27,[1],[1.0])|(5,[0],[1.0])|(38,[0,1,3,29,30,...|\n",
      "|        11.5|        8|         350|       165|buick        |buick skylark 320...|        70|15.0|USA    |  3693|             9.0|       0.0|  (27,[9],[1.0])|(5,[0],[1.0])|(38,[0,1,11,29,30...|\n",
      "+------------+---------+------------+----------+-------------+--------------------+----------+----+-------+------+----------------+----------+----------------+-------------+--------------------+\n",
      "only showing top 2 rows\n",
      "\n"
     ]
    }
   ],
   "source": [
    "assembler = VectorAssembler(\n",
    "    inputCols=[\"Cylinders\", \"Displacement\", \"Manufacturer_cat\", \"Model_Year\", \"Origin_cat\", \"Weight\", \"Acceleration\", \"Horsepower\"],\n",
    "    outputCol=\"features\"\n",
    ")\n",
    "\n",
    "df_features = assembler.transform(cat_df)\n",
    "df_features.show(2)"
   ]
  },
  {
   "cell_type": "code",
   "execution_count": 36,
   "metadata": {},
   "outputs": [
    {
     "name": "stdout",
     "output_type": "stream",
     "text": [
      "+--------------------+----+\n",
      "|            features| MPG|\n",
      "+--------------------+----+\n",
      "|(38,[0,1,3,29,30,...|18.0|\n",
      "|(38,[0,1,11,29,30...|15.0|\n",
      "+--------------------+----+\n",
      "only showing top 2 rows\n",
      "\n"
     ]
    }
   ],
   "source": [
    "df_final = df_features.select(['features', 'MPG'])\n",
    "df_final.show(2)"
   ]
  },
  {
   "cell_type": "code",
   "execution_count": 37,
   "metadata": {},
   "outputs": [],
   "source": [
    "df_train, df_test = df_final.randomSplit([0.9, 0.1])"
   ]
  },
  {
   "cell_type": "code",
   "execution_count": 38,
   "metadata": {},
   "outputs": [
    {
     "data": {
      "text/plain": [
       "(89, 11)"
      ]
     },
     "execution_count": 38,
     "metadata": {},
     "output_type": "execute_result"
    }
   ],
   "source": [
    "df_train.count(), df_test.count()"
   ]
  },
  {
   "cell_type": "code",
   "execution_count": 39,
   "metadata": {},
   "outputs": [],
   "source": [
    "lr = LinearRegression(featuresCol=\"features\", labelCol=\"MPG\", maxIter=10, regParam=0.3)\n",
    "lr_model = lr.fit(df_train)"
   ]
  },
  {
   "cell_type": "code",
   "execution_count": 40,
   "metadata": {},
   "outputs": [
    {
     "name": "stdout",
     "output_type": "stream",
     "text": [
      "Coefficients: [-1.2417382140002136,-0.0016586034234000097,-1.145185956001521,0.22472898942582578,-0.6099194136506302,-0.4092794974766863,1.5293314668624969,-1.9842097351122223,2.7748510547863865,2.225803688779511,0.6054203400097946,-0.9780292654038669,3.380953270145106,1.4663000960333878,0.0093926137496054,-1.5807857909764746,-0.34782129148310564,1.0120771586302963,-3.489771756564823,-6.173907680790496,0.0,-1.0391780839256888,-3.781137412139316,0.0,3.417407549280013,12.401081943074393,-3.325905069977393,0.1700463698347177,4.833519570710729,0.4374351893737858,-0.16655830595842655,1.241190176415598,0.5143059462882679,-1.549133766387271,-4.513845451026045,-0.0030785788705236577,-0.24168169868092054,-0.014889459886502402]\n",
      "Intercept: 11.974733551223686\n"
     ]
    }
   ],
   "source": [
    "print(\"Coefficients: \" + str(lr_model.coefficients))\n",
    "print(\"Intercept: \" + str(lr_model.intercept))"
   ]
  },
  {
   "cell_type": "code",
   "execution_count": 41,
   "metadata": {},
   "outputs": [
    {
     "name": "stdout",
     "output_type": "stream",
     "text": [
      "RMSE: 2.5405\n",
      "r2: 0.8981\n"
     ]
    }
   ],
   "source": [
    "summary = lr_model.summary\n",
    "print(\"RMSE:\", round(summary.rootMeanSquaredError, 4))\n",
    "print(\"r2:\", round(summary.r2, 4))"
   ]
  },
  {
   "cell_type": "code",
   "execution_count": 42,
   "metadata": {},
   "outputs": [
    {
     "name": "stdout",
     "output_type": "stream",
     "text": [
      "+--------------------+----+------------------+\n",
      "|            features| MPG|        prediction|\n",
      "+--------------------+----+------------------+\n",
      "|(38,[0,1,6,29,30,...|18.0|18.026713700065073|\n",
      "|(38,[0,1,4,29,30,...|18.0|20.307905997144125|\n",
      "|(38,[0,1,5,29,30,...|15.0| 15.53320649759926|\n",
      "+--------------------+----+------------------+\n",
      "only showing top 3 rows\n",
      "\n"
     ]
    }
   ],
   "source": [
    "lr_preds = lr_model.transform(df_test)\n",
    "lr_preds.show(3)"
   ]
  },
  {
   "cell_type": "code",
   "execution_count": 43,
   "metadata": {},
   "outputs": [
    {
     "name": "stdout",
     "output_type": "stream",
     "text": [
      "RMSE (test data): 2.8247939461006433\n",
      "R2 (test data): 0.860766491976473\n"
     ]
    }
   ],
   "source": [
    "# RMSE evaluation\n",
    "lr_eval = RegressionEvaluator(predictionCol=\"prediction\", labelCol=\"MPG\")\n",
    "lr_eval_r2 = RegressionEvaluator(predictionCol=\"prediction\", labelCol=\"MPG\", metricName=\"r2\")\n",
    "print(\"RMSE (test data):\", lr_eval.evaluate(lr_preds))\n",
    "print(\"R2 (test data):\", lr_eval_r2.evaluate(lr_preds))"
   ]
  },
  {
   "attachments": {},
   "cell_type": "markdown",
   "metadata": {},
   "source": [
    "## Decision Tree Regressor"
   ]
  },
  {
   "cell_type": "code",
   "execution_count": 44,
   "metadata": {},
   "outputs": [],
   "source": [
    "from pyspark.ml.regression import DecisionTreeRegressor\n",
    "\n",
    "dt_reg = DecisionTreeRegressor(featuresCol=\"features\", labelCol=\"MPG\")\n",
    "dt_model = dt_reg.fit(df_train)"
   ]
  },
  {
   "cell_type": "code",
   "execution_count": 45,
   "metadata": {},
   "outputs": [
    {
     "name": "stdout",
     "output_type": "stream",
     "text": [
      "+--------------------+----+----------+\n",
      "|            features| MPG|prediction|\n",
      "+--------------------+----+----------+\n",
      "|(38,[0,1,6,29,30,...|18.0|      16.9|\n",
      "|(38,[0,1,4,29,30,...|18.0|     20.75|\n",
      "|(38,[0,1,5,29,30,...|15.0|      16.9|\n",
      "+--------------------+----+----------+\n",
      "only showing top 3 rows\n",
      "\n"
     ]
    }
   ],
   "source": [
    "dt_preds = dt_model.transform(df_test)\n",
    "dt_preds.show(3)"
   ]
  },
  {
   "cell_type": "code",
   "execution_count": 46,
   "metadata": {},
   "outputs": [
    {
     "name": "stdout",
     "output_type": "stream",
     "text": [
      "RMSE (test data): 2.462501262233535\n",
      "R2 (test data): 0.8941908705102442\n"
     ]
    },
    {
     "name": "stdout",
     "output_type": "stream",
     "text": [
      "22/12/27 03:47:57 WARN HeartbeatReceiver: Removing executor driver with no recent heartbeats: 1046217 ms exceeds timeout 120000 ms\n",
      "22/12/27 03:47:57 WARN SparkContext: Killing executors is not supported by current scheduler.\n"
     ]
    }
   ],
   "source": [
    "# RMSE evaluation\n",
    "dt_eval = RegressionEvaluator(predictionCol=\"prediction\", labelCol=\"MPG\")\n",
    "dt_eval_r2 = RegressionEvaluator(predictionCol=\"prediction\", labelCol=\"MPG\", metricName=\"r2\")\n",
    "print(\"RMSE (test data):\", dt_eval.evaluate(dt_preds))\n",
    "print(\"R2 (test data):\", dt_eval_r2.evaluate(dt_preds))"
   ]
  }
 ],
 "metadata": {
  "kernelspec": {
   "display_name": "Python 3.9.13 ('tf')",
   "language": "python",
   "name": "python3"
  },
  "language_info": {
   "codemirror_mode": {
    "name": "ipython",
    "version": 3
   },
   "file_extension": ".py",
   "mimetype": "text/x-python",
   "name": "python",
   "nbconvert_exporter": "python",
   "pygments_lexer": "ipython3",
   "version": "3.9.13 | packaged by conda-forge | (main, May 27 2022, 17:01:00) \n[Clang 13.0.1 ]"
  },
  "orig_nbformat": 4,
  "vscode": {
   "interpreter": {
    "hash": "cceb9cfee3e25f15127e7349ef4bbbf7064e796fa4741e9fe0eacec176ef1a1d"
   }
  }
 },
 "nbformat": 4,
 "nbformat_minor": 2
}
